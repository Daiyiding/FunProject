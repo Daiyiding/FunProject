{
 "cells": [
  {
   "cell_type": "code",
   "execution_count": 4,
   "metadata": {},
   "outputs": [],
   "source": [
    "import pandas\n",
    "\n",
    "import pyecharts\n",
    "\n",
    "from pyecharts.charts import Map\n",
    "\n",
    "from pyecharts import options as opts\n",
    "\n",
    "from pyecharts.charts import Timeline\n",
    "\n"
   ]
  },
  {
   "cell_type": "code",
   "execution_count": 31,
   "metadata": {},
   "outputs": [],
   "source": [
    "data = pandas.read_excel('test.xlsx',index_col='time') \n",
    "\n",
    "attr = data.columns.tolist()\n",
    "\n",
    "n = len(data.index)"
   ]
  },
  {
   "cell_type": "code",
   "execution_count": 32,
   "metadata": {},
   "outputs": [
    {
     "name": "stdout",
     "output_type": "stream",
     "text": [
      "91\n"
     ]
    }
   ],
   "source": [
    "print(n)"
   ]
  },
  {
   "cell_type": "code",
   "execution_count": 35,
   "metadata": {},
   "outputs": [],
   "source": [
    "#定义每日地图绘制函数\n",
    "def map_visualmap(sequence, date) -> Map:\n",
    "    c = (\n",
    "        Map()\n",
    "        .add(date, sequence, maptype=\"world\")\n",
    "        .set_series_opts(label_opts=opts.LabelOpts(is_show= False))\n",
    "        .set_global_opts(\n",
    "            title_opts=opts.TitleOpts(title=\"Global Covid19 Map\"),\n",
    "            visualmap_opts=opts.VisualMapOpts(max_=100000,range_color=[ \"#FFFFFF\", \"#FFCC00\", \"#CC0000\"]))\n",
    "        )\n",
    "    return c"
   ]
  },
  {
   "cell_type": "code",
   "execution_count": 36,
   "metadata": {},
   "outputs": [
    {
     "data": {
      "text/plain": [
       "'C:\\\\Users\\\\dingd\\\\Documents\\\\03 MyProjects\\\\teachingML\\\\Global Covid19 Map.html'"
      ]
     },
     "execution_count": 36,
     "metadata": {},
     "output_type": "execute_result"
    }
   ],
   "source": [
    "timeline = Timeline()\n",
    "for i in range(n):\n",
    "     \n",
    "    row = data.iloc[i,].tolist()\n",
    "     \n",
    "    sequence_temp = list(zip(attr,row))\n",
    "     \n",
    "    time = format(data.index[i], \"%Y-%m-%d\")\n",
    "     \n",
    "    map_temp = map_visualmap(sequence_temp,time)\n",
    "     \n",
    "    timeline.add(map_temp,time).add_schema(play_interval=360)\n",
    " \n",
    "timeline.render('Global Covid19 Map.html')"
   ]
  },
  {
   "cell_type": "code",
   "execution_count": null,
   "metadata": {},
   "outputs": [],
   "source": []
  },
  {
   "cell_type": "code",
   "execution_count": null,
   "metadata": {},
   "outputs": [],
   "source": []
  }
 ],
 "metadata": {
  "kernelspec": {
   "display_name": "Python 3",
   "language": "python",
   "name": "python3"
  },
  "language_info": {
   "codemirror_mode": {
    "name": "ipython",
    "version": 3
   },
   "file_extension": ".py",
   "mimetype": "text/x-python",
   "name": "python",
   "nbconvert_exporter": "python",
   "pygments_lexer": "ipython3",
   "version": "3.6.4"
  }
 },
 "nbformat": 4,
 "nbformat_minor": 2
}
